{
 "cells": [
  {
   "cell_type": "code",
   "execution_count": 4,
   "metadata": {},
   "outputs": [
    {
     "data": {
      "application/vnd.jupyter.widget-view+json": {
       "model_id": "80937e3a3e634b45b922934c4d02ad5d",
       "version_major": 2,
       "version_minor": 0
      },
      "text/plain": [
       "Canvas(toolbar=Toolbar(toolitems=[('Home', 'Reset original view', 'home', 'home'), ('Back', 'Back to previous …"
      ]
     },
     "metadata": {},
     "output_type": "display_data"
    }
   ],
   "source": [
    "import numpy as np\n",
    "import matplotlib.pyplot as plt\n",
    "import matplotlib\n",
    "from matplotlib.widgets import Slider, Button, RadioButtons\n",
    "%matplotlib widget\n",
    "font = {'family' : 'normal', 'weight' : 'bold', 'size' : 22}\n",
    "matplotlib.rc('font', **font)\n",
    "fig, ax = plt.subplots(figsize=(15,10))\n",
    "plt.subplots_adjust(left=0.25, bottom=0.25)\n",
    "plt.ylim(0,1)\n",
    "plt.xlabel('t')\n",
    "plt.title(\"Coupled Oscillator Example\")\n",
    "plt.ylabel('Probability of oscillation')\n",
    "t = np.arange(0.0, 10.0, 0.1)\n",
    "theta_0 = 0.78\n",
    "delta_theta=0.2\n",
    "E1_0 = 1.1\n",
    "E2_0 = 5\n",
    "hbar = 1\n",
    "s = (np.sin(2*theta_0)*(np.sin((E2_0-E1_0)*t/2*hbar)))**2\n",
    "\n",
    "\n",
    "l, = plt.plot(t, s, lw=2, label=\"Oscillation one way\")\n",
    "l2, = plt.plot(t,1-s,lw=2, label=\"Oscillation other way\")\n",
    "ax.margins(x=0)\n",
    "plt.legend(loc='best')\n",
    "axcolor = 'lightgoldenrodyellow'\n",
    "axE1 = plt.axes([0.25, 0.05, 0.65, 0.03], facecolor=axcolor)\n",
    "axE2 = plt.axes([0.25, 0.1, 0.65, 0.03], facecolor=axcolor)\n",
    "axtheta = plt.axes([0.25, 0.15, 0.65, 0.03], facecolor=axcolor)\n",
    "\n",
    "stheta = Slider(axtheta, 'Theta', 0, 3.14, valinit=theta_0, valstep=delta_theta)\n",
    "sE1 = Slider(axE1, 'E1', 0.1, 10.0, valinit=E1_0)\n",
    "sE2 = Slider(axE2, 'E2', 0.1, 10.0, valinit=E2_0)\n",
    "\n",
    "def update(val):\n",
    "    theta = stheta.val\n",
    "    E1 = sE1.val\n",
    "    E2 = sE2.val\n",
    "    hbar = 1\n",
    "    p_osc = (np.sin(2*theta)*(np.sin((E2-E1)*t/2*hbar)))**2\n",
    "    l.set_ydata(p_osc)\n",
    "    l2.set_ydata(1-p_osc)\n",
    "    fig.canvas.draw_idle()\n",
    "\n",
    "\n",
    "stheta.on_changed(update)\n",
    "sE1.on_changed(update)\n",
    "sE2.on_changed(update)\n",
    "\n",
    "resetax = plt.axes([0.8, 0.005, 0.1, 0.04])\n",
    "button = Button(resetax, 'Reset', color=axcolor, hovercolor='0.975')\n",
    "\n",
    "\n",
    "def reset(event):\n",
    "    stheta.reset()\n",
    "    sE1.reset()\n",
    "    sE2.reset()\n",
    "    \n",
    "button.on_clicked(reset)\n",
    "\n",
    "\n",
    "\n",
    "plt.show()"
   ]
  },
  {
   "cell_type": "code",
   "execution_count": 5,
   "metadata": {},
   "outputs": [
    {
     "name": "stdout",
     "output_type": "stream",
     "text": [
      "Requirement already satisfied: ipywidgets in /Users/chelseabartram/.pyenv/versions/3.7.3/lib/python3.7/site-packages (7.6.3)\n",
      "Requirement already satisfied: widgetsnbextension~=3.5.0 in /Users/chelseabartram/.pyenv/versions/3.7.3/lib/python3.7/site-packages (from ipywidgets) (3.5.1)\n",
      "Requirement already satisfied: ipykernel>=4.5.1 in /Users/chelseabartram/.pyenv/versions/3.7.3/lib/python3.7/site-packages (from ipywidgets) (6.2.0)\n",
      "Requirement already satisfied: jupyterlab-widgets>=1.0.0 in /Users/chelseabartram/.pyenv/versions/3.7.3/lib/python3.7/site-packages (from ipywidgets) (1.0.0)\n",
      "Requirement already satisfied: nbformat>=4.2.0 in /Users/chelseabartram/.pyenv/versions/3.7.3/lib/python3.7/site-packages (from ipywidgets) (5.1.3)\n",
      "Requirement already satisfied: traitlets>=4.3.1 in /Users/chelseabartram/.pyenv/versions/3.7.3/lib/python3.7/site-packages (from ipywidgets) (5.0.5)\n",
      "Requirement already satisfied: ipython>=4.0.0 in /Users/chelseabartram/.pyenv/versions/3.7.3/lib/python3.7/site-packages (from ipywidgets) (7.27.0)\n",
      "Requirement already satisfied: argcomplete>=1.12.3 in /Users/chelseabartram/.pyenv/versions/3.7.3/lib/python3.7/site-packages (from ipykernel>=4.5.1->ipywidgets) (1.12.3)\n",
      "Requirement already satisfied: debugpy<2.0,>=1.0.0 in /Users/chelseabartram/.pyenv/versions/3.7.3/lib/python3.7/site-packages (from ipykernel>=4.5.1->ipywidgets) (1.4.1)\n",
      "Requirement already satisfied: appnope in /Users/chelseabartram/.pyenv/versions/3.7.3/lib/python3.7/site-packages (from ipykernel>=4.5.1->ipywidgets) (0.1.2)\n",
      "Requirement already satisfied: tornado<7.0,>=4.2 in /Users/chelseabartram/.pyenv/versions/3.7.3/lib/python3.7/site-packages (from ipykernel>=4.5.1->ipywidgets) (6.1)\n",
      "Requirement already satisfied: jupyter-client<8.0 in /Users/chelseabartram/.pyenv/versions/3.7.3/lib/python3.7/site-packages (from ipykernel>=4.5.1->ipywidgets) (7.0.1)\n",
      "Requirement already satisfied: importlib-metadata<5 in /Users/chelseabartram/.pyenv/versions/3.7.3/lib/python3.7/site-packages (from ipykernel>=4.5.1->ipywidgets) (4.6.4)\n",
      "Requirement already satisfied: matplotlib-inline<0.2.0,>=0.1.0 in /Users/chelseabartram/.pyenv/versions/3.7.3/lib/python3.7/site-packages (from ipykernel>=4.5.1->ipywidgets) (0.1.2)\n",
      "Requirement already satisfied: zipp>=0.5 in /Users/chelseabartram/.pyenv/versions/3.7.3/lib/python3.7/site-packages (from importlib-metadata<5->ipykernel>=4.5.1->ipywidgets) (3.5.0)\n",
      "Requirement already satisfied: typing-extensions>=3.6.4 in /Users/chelseabartram/.pyenv/versions/3.7.3/lib/python3.7/site-packages (from importlib-metadata<5->ipykernel>=4.5.1->ipywidgets) (3.10.0.0)\n",
      "Requirement already satisfied: pexpect>4.3 in /Users/chelseabartram/.pyenv/versions/3.7.3/lib/python3.7/site-packages (from ipython>=4.0.0->ipywidgets) (4.8.0)\n",
      "Requirement already satisfied: jedi>=0.16 in /Users/chelseabartram/.pyenv/versions/3.7.3/lib/python3.7/site-packages (from ipython>=4.0.0->ipywidgets) (0.18.0)\n",
      "Requirement already satisfied: prompt-toolkit!=3.0.0,!=3.0.1,<3.1.0,>=2.0.0 in /Users/chelseabartram/.pyenv/versions/3.7.3/lib/python3.7/site-packages (from ipython>=4.0.0->ipywidgets) (3.0.20)\n",
      "Requirement already satisfied: setuptools>=18.5 in /Users/chelseabartram/.pyenv/versions/3.7.3/lib/python3.7/site-packages (from ipython>=4.0.0->ipywidgets) (40.8.0)\n",
      "Requirement already satisfied: backcall in /Users/chelseabartram/.pyenv/versions/3.7.3/lib/python3.7/site-packages (from ipython>=4.0.0->ipywidgets) (0.2.0)\n",
      "Requirement already satisfied: pygments in /Users/chelseabartram/.pyenv/versions/3.7.3/lib/python3.7/site-packages (from ipython>=4.0.0->ipywidgets) (2.10.0)\n",
      "Requirement already satisfied: decorator in /Users/chelseabartram/.pyenv/versions/3.7.3/lib/python3.7/site-packages (from ipython>=4.0.0->ipywidgets) (5.0.9)\n",
      "Requirement already satisfied: pickleshare in /Users/chelseabartram/.pyenv/versions/3.7.3/lib/python3.7/site-packages (from ipython>=4.0.0->ipywidgets) (0.7.5)\n",
      "Requirement already satisfied: parso<0.9.0,>=0.8.0 in /Users/chelseabartram/.pyenv/versions/3.7.3/lib/python3.7/site-packages (from jedi>=0.16->ipython>=4.0.0->ipywidgets) (0.8.2)\n",
      "Requirement already satisfied: jupyter-core>=4.6.0 in /Users/chelseabartram/.pyenv/versions/3.7.3/lib/python3.7/site-packages (from jupyter-client<8.0->ipykernel>=4.5.1->ipywidgets) (4.7.1)\n",
      "Requirement already satisfied: pyzmq>=13 in /Users/chelseabartram/.pyenv/versions/3.7.3/lib/python3.7/site-packages (from jupyter-client<8.0->ipykernel>=4.5.1->ipywidgets) (22.2.1)\n",
      "Requirement already satisfied: entrypoints in /Users/chelseabartram/.pyenv/versions/3.7.3/lib/python3.7/site-packages (from jupyter-client<8.0->ipykernel>=4.5.1->ipywidgets) (0.3)\n",
      "Requirement already satisfied: nest-asyncio>=1.5 in /Users/chelseabartram/.pyenv/versions/3.7.3/lib/python3.7/site-packages (from jupyter-client<8.0->ipykernel>=4.5.1->ipywidgets) (1.5.1)\n",
      "Requirement already satisfied: python-dateutil>=2.1 in /Users/chelseabartram/.pyenv/versions/3.7.3/lib/python3.7/site-packages (from jupyter-client<8.0->ipykernel>=4.5.1->ipywidgets) (2.8.1)\n",
      "Requirement already satisfied: ipython-genutils in /Users/chelseabartram/.pyenv/versions/3.7.3/lib/python3.7/site-packages (from nbformat>=4.2.0->ipywidgets) (0.2.0)\n",
      "Requirement already satisfied: jsonschema!=2.5.0,>=2.4 in /Users/chelseabartram/.pyenv/versions/3.7.3/lib/python3.7/site-packages (from nbformat>=4.2.0->ipywidgets) (3.2.0)\n",
      "Requirement already satisfied: six>=1.11.0 in /Users/chelseabartram/.pyenv/versions/3.7.3/lib/python3.7/site-packages (from jsonschema!=2.5.0,>=2.4->nbformat>=4.2.0->ipywidgets) (1.15.0)\n",
      "Requirement already satisfied: pyrsistent>=0.14.0 in /Users/chelseabartram/.pyenv/versions/3.7.3/lib/python3.7/site-packages (from jsonschema!=2.5.0,>=2.4->nbformat>=4.2.0->ipywidgets) (0.18.0)\n",
      "Requirement already satisfied: attrs>=17.4.0 in /Users/chelseabartram/.pyenv/versions/3.7.3/lib/python3.7/site-packages (from jsonschema!=2.5.0,>=2.4->nbformat>=4.2.0->ipywidgets) (21.2.0)\n",
      "Requirement already satisfied: ptyprocess>=0.5 in /Users/chelseabartram/.pyenv/versions/3.7.3/lib/python3.7/site-packages (from pexpect>4.3->ipython>=4.0.0->ipywidgets) (0.7.0)\n",
      "Requirement already satisfied: wcwidth in /Users/chelseabartram/.pyenv/versions/3.7.3/lib/python3.7/site-packages (from prompt-toolkit!=3.0.0,!=3.0.1,<3.1.0,>=2.0.0->ipython>=4.0.0->ipywidgets) (0.2.5)\n",
      "Requirement already satisfied: notebook>=4.4.1 in /Users/chelseabartram/.pyenv/versions/3.7.3/lib/python3.7/site-packages (from widgetsnbextension~=3.5.0->ipywidgets) (6.4.3)\n",
      "Requirement already satisfied: nbconvert in /Users/chelseabartram/.pyenv/versions/3.7.3/lib/python3.7/site-packages (from notebook>=4.4.1->widgetsnbextension~=3.5.0->ipywidgets) (6.1.0)\n",
      "Requirement already satisfied: Send2Trash>=1.5.0 in /Users/chelseabartram/.pyenv/versions/3.7.3/lib/python3.7/site-packages (from notebook>=4.4.1->widgetsnbextension~=3.5.0->ipywidgets) (1.8.0)\n",
      "Requirement already satisfied: terminado>=0.8.3 in /Users/chelseabartram/.pyenv/versions/3.7.3/lib/python3.7/site-packages (from notebook>=4.4.1->widgetsnbextension~=3.5.0->ipywidgets) (0.11.1)\n",
      "Requirement already satisfied: jinja2 in /Users/chelseabartram/.pyenv/versions/3.7.3/lib/python3.7/site-packages (from notebook>=4.4.1->widgetsnbextension~=3.5.0->ipywidgets) (3.0.1)\n",
      "Requirement already satisfied: argon2-cffi in /Users/chelseabartram/.pyenv/versions/3.7.3/lib/python3.7/site-packages (from notebook>=4.4.1->widgetsnbextension~=3.5.0->ipywidgets) (21.1.0)\n",
      "Requirement already satisfied: prometheus-client in /Users/chelseabartram/.pyenv/versions/3.7.3/lib/python3.7/site-packages (from notebook>=4.4.1->widgetsnbextension~=3.5.0->ipywidgets) (0.11.0)\n",
      "Requirement already satisfied: cffi>=1.0.0 in /Users/chelseabartram/.pyenv/versions/3.7.3/lib/python3.7/site-packages (from argon2-cffi->notebook>=4.4.1->widgetsnbextension~=3.5.0->ipywidgets) (1.14.6)\n",
      "Requirement already satisfied: pycparser in /Users/chelseabartram/.pyenv/versions/3.7.3/lib/python3.7/site-packages (from cffi>=1.0.0->argon2-cffi->notebook>=4.4.1->widgetsnbextension~=3.5.0->ipywidgets) (2.20)\n",
      "Requirement already satisfied: MarkupSafe>=2.0 in /Users/chelseabartram/.pyenv/versions/3.7.3/lib/python3.7/site-packages (from jinja2->notebook>=4.4.1->widgetsnbextension~=3.5.0->ipywidgets) (2.0.1)\n"
     ]
    },
    {
     "name": "stdout",
     "output_type": "stream",
     "text": [
      "Requirement already satisfied: jupyterlab-pygments in /Users/chelseabartram/.pyenv/versions/3.7.3/lib/python3.7/site-packages (from nbconvert->notebook>=4.4.1->widgetsnbextension~=3.5.0->ipywidgets) (0.1.2)\n",
      "Requirement already satisfied: mistune<2,>=0.8.1 in /Users/chelseabartram/.pyenv/versions/3.7.3/lib/python3.7/site-packages (from nbconvert->notebook>=4.4.1->widgetsnbextension~=3.5.0->ipywidgets) (0.8.4)\n",
      "Requirement already satisfied: bleach in /Users/chelseabartram/.pyenv/versions/3.7.3/lib/python3.7/site-packages (from nbconvert->notebook>=4.4.1->widgetsnbextension~=3.5.0->ipywidgets) (4.1.0)\n",
      "Requirement already satisfied: defusedxml in /Users/chelseabartram/.pyenv/versions/3.7.3/lib/python3.7/site-packages (from nbconvert->notebook>=4.4.1->widgetsnbextension~=3.5.0->ipywidgets) (0.7.1)\n",
      "Requirement already satisfied: testpath in /Users/chelseabartram/.pyenv/versions/3.7.3/lib/python3.7/site-packages (from nbconvert->notebook>=4.4.1->widgetsnbextension~=3.5.0->ipywidgets) (0.5.0)\n",
      "Requirement already satisfied: pandocfilters>=1.4.1 in /Users/chelseabartram/.pyenv/versions/3.7.3/lib/python3.7/site-packages (from nbconvert->notebook>=4.4.1->widgetsnbextension~=3.5.0->ipywidgets) (1.4.3)\n",
      "Requirement already satisfied: nbclient<0.6.0,>=0.5.0 in /Users/chelseabartram/.pyenv/versions/3.7.3/lib/python3.7/site-packages (from nbconvert->notebook>=4.4.1->widgetsnbextension~=3.5.0->ipywidgets) (0.5.4)\n",
      "Requirement already satisfied: webencodings in /Users/chelseabartram/.pyenv/versions/3.7.3/lib/python3.7/site-packages (from bleach->nbconvert->notebook>=4.4.1->widgetsnbextension~=3.5.0->ipywidgets) (0.5.1)\n",
      "Requirement already satisfied: packaging in /Users/chelseabartram/.pyenv/versions/3.7.3/lib/python3.7/site-packages (from bleach->nbconvert->notebook>=4.4.1->widgetsnbextension~=3.5.0->ipywidgets) (21.0)\n",
      "Requirement already satisfied: pyparsing>=2.0.2 in /Users/chelseabartram/.pyenv/versions/3.7.3/lib/python3.7/site-packages (from packaging->bleach->nbconvert->notebook>=4.4.1->widgetsnbextension~=3.5.0->ipywidgets) (2.4.7)\n",
      "Note: you may need to restart the kernel to use updated packages.\n"
     ]
    }
   ],
   "source": [
    "pip install ipywidgets"
   ]
  },
  {
   "cell_type": "code",
   "execution_count": 6,
   "metadata": {},
   "outputs": [
    {
     "name": "stdout",
     "output_type": "stream",
     "text": [
      "Requirement already satisfied: ipympl in /Users/chelseabartram/.pyenv/versions/3.7.3/lib/python3.7/site-packages (0.7.0)\n",
      "Requirement already satisfied: matplotlib>=2.0.0 in /Users/chelseabartram/.pyenv/versions/3.7.3/lib/python3.7/site-packages (from ipympl) (3.3.3)\n",
      "Requirement already satisfied: ipywidgets>=7.6.0 in /Users/chelseabartram/.pyenv/versions/3.7.3/lib/python3.7/site-packages (from ipympl) (7.6.3)\n",
      "Requirement already satisfied: ipykernel>=4.7 in /Users/chelseabartram/.pyenv/versions/3.7.3/lib/python3.7/site-packages (from ipympl) (6.2.0)\n",
      "Requirement already satisfied: matplotlib-inline<0.2.0,>=0.1.0 in /Users/chelseabartram/.pyenv/versions/3.7.3/lib/python3.7/site-packages (from ipykernel>=4.7->ipympl) (0.1.2)\n",
      "Requirement already satisfied: argcomplete>=1.12.3 in /Users/chelseabartram/.pyenv/versions/3.7.3/lib/python3.7/site-packages (from ipykernel>=4.7->ipympl) (1.12.3)\n",
      "Requirement already satisfied: ipython<8.0,>=7.23.1 in /Users/chelseabartram/.pyenv/versions/3.7.3/lib/python3.7/site-packages (from ipykernel>=4.7->ipympl) (7.27.0)\n",
      "Requirement already satisfied: appnope in /Users/chelseabartram/.pyenv/versions/3.7.3/lib/python3.7/site-packages (from ipykernel>=4.7->ipympl) (0.1.2)\n",
      "Requirement already satisfied: jupyter-client<8.0 in /Users/chelseabartram/.pyenv/versions/3.7.3/lib/python3.7/site-packages (from ipykernel>=4.7->ipympl) (7.0.1)\n",
      "Requirement already satisfied: tornado<7.0,>=4.2 in /Users/chelseabartram/.pyenv/versions/3.7.3/lib/python3.7/site-packages (from ipykernel>=4.7->ipympl) (6.1)\n",
      "Requirement already satisfied: importlib-metadata<5 in /Users/chelseabartram/.pyenv/versions/3.7.3/lib/python3.7/site-packages (from ipykernel>=4.7->ipympl) (4.6.4)\n",
      "Requirement already satisfied: debugpy<2.0,>=1.0.0 in /Users/chelseabartram/.pyenv/versions/3.7.3/lib/python3.7/site-packages (from ipykernel>=4.7->ipympl) (1.4.1)\n",
      "Requirement already satisfied: traitlets<6.0,>=4.1.0 in /Users/chelseabartram/.pyenv/versions/3.7.3/lib/python3.7/site-packages (from ipykernel>=4.7->ipympl) (5.0.5)\n",
      "Requirement already satisfied: zipp>=0.5 in /Users/chelseabartram/.pyenv/versions/3.7.3/lib/python3.7/site-packages (from importlib-metadata<5->ipykernel>=4.7->ipympl) (3.5.0)\n",
      "Requirement already satisfied: typing-extensions>=3.6.4 in /Users/chelseabartram/.pyenv/versions/3.7.3/lib/python3.7/site-packages (from importlib-metadata<5->ipykernel>=4.7->ipympl) (3.10.0.0)\n",
      "Requirement already satisfied: jedi>=0.16 in /Users/chelseabartram/.pyenv/versions/3.7.3/lib/python3.7/site-packages (from ipython<8.0,>=7.23.1->ipykernel>=4.7->ipympl) (0.18.0)\n",
      "Requirement already satisfied: pickleshare in /Users/chelseabartram/.pyenv/versions/3.7.3/lib/python3.7/site-packages (from ipython<8.0,>=7.23.1->ipykernel>=4.7->ipympl) (0.7.5)\n",
      "Requirement already satisfied: backcall in /Users/chelseabartram/.pyenv/versions/3.7.3/lib/python3.7/site-packages (from ipython<8.0,>=7.23.1->ipykernel>=4.7->ipympl) (0.2.0)\n",
      "Requirement already satisfied: setuptools>=18.5 in /Users/chelseabartram/.pyenv/versions/3.7.3/lib/python3.7/site-packages (from ipython<8.0,>=7.23.1->ipykernel>=4.7->ipympl) (40.8.0)\n",
      "Requirement already satisfied: decorator in /Users/chelseabartram/.pyenv/versions/3.7.3/lib/python3.7/site-packages (from ipython<8.0,>=7.23.1->ipykernel>=4.7->ipympl) (5.0.9)\n",
      "Requirement already satisfied: pygments in /Users/chelseabartram/.pyenv/versions/3.7.3/lib/python3.7/site-packages (from ipython<8.0,>=7.23.1->ipykernel>=4.7->ipympl) (2.10.0)\n",
      "Requirement already satisfied: prompt-toolkit!=3.0.0,!=3.0.1,<3.1.0,>=2.0.0 in /Users/chelseabartram/.pyenv/versions/3.7.3/lib/python3.7/site-packages (from ipython<8.0,>=7.23.1->ipykernel>=4.7->ipympl) (3.0.20)\n",
      "Requirement already satisfied: pexpect>4.3 in /Users/chelseabartram/.pyenv/versions/3.7.3/lib/python3.7/site-packages (from ipython<8.0,>=7.23.1->ipykernel>=4.7->ipympl) (4.8.0)\n",
      "Requirement already satisfied: nbformat>=4.2.0 in /Users/chelseabartram/.pyenv/versions/3.7.3/lib/python3.7/site-packages (from ipywidgets>=7.6.0->ipympl) (5.1.3)\n",
      "Requirement already satisfied: jupyterlab-widgets>=1.0.0 in /Users/chelseabartram/.pyenv/versions/3.7.3/lib/python3.7/site-packages (from ipywidgets>=7.6.0->ipympl) (1.0.0)\n",
      "Requirement already satisfied: widgetsnbextension~=3.5.0 in /Users/chelseabartram/.pyenv/versions/3.7.3/lib/python3.7/site-packages (from ipywidgets>=7.6.0->ipympl) (3.5.1)\n",
      "Requirement already satisfied: parso<0.9.0,>=0.8.0 in /Users/chelseabartram/.pyenv/versions/3.7.3/lib/python3.7/site-packages (from jedi>=0.16->ipython<8.0,>=7.23.1->ipykernel>=4.7->ipympl) (0.8.2)\n",
      "Requirement already satisfied: jupyter-core>=4.6.0 in /Users/chelseabartram/.pyenv/versions/3.7.3/lib/python3.7/site-packages (from jupyter-client<8.0->ipykernel>=4.7->ipympl) (4.7.1)\n",
      "Requirement already satisfied: entrypoints in /Users/chelseabartram/.pyenv/versions/3.7.3/lib/python3.7/site-packages (from jupyter-client<8.0->ipykernel>=4.7->ipympl) (0.3)\n",
      "Requirement already satisfied: pyzmq>=13 in /Users/chelseabartram/.pyenv/versions/3.7.3/lib/python3.7/site-packages (from jupyter-client<8.0->ipykernel>=4.7->ipympl) (22.2.1)\n",
      "Requirement already satisfied: nest-asyncio>=1.5 in /Users/chelseabartram/.pyenv/versions/3.7.3/lib/python3.7/site-packages (from jupyter-client<8.0->ipykernel>=4.7->ipympl) (1.5.1)\n",
      "Requirement already satisfied: python-dateutil>=2.1 in /Users/chelseabartram/.pyenv/versions/3.7.3/lib/python3.7/site-packages (from jupyter-client<8.0->ipykernel>=4.7->ipympl) (2.8.1)\n",
      "Requirement already satisfied: pyparsing!=2.0.4,!=2.1.2,!=2.1.6,>=2.0.3 in /Users/chelseabartram/.pyenv/versions/3.7.3/lib/python3.7/site-packages (from matplotlib>=2.0.0->ipympl) (2.4.7)\n",
      "Requirement already satisfied: pillow>=6.2.0 in /Users/chelseabartram/.pyenv/versions/3.7.3/lib/python3.7/site-packages (from matplotlib>=2.0.0->ipympl) (8.0.1)\n",
      "Requirement already satisfied: numpy>=1.15 in /Users/chelseabartram/.pyenv/versions/3.7.3/lib/python3.7/site-packages (from matplotlib>=2.0.0->ipympl) (1.19.3)\n",
      "Requirement already satisfied: cycler>=0.10 in /Users/chelseabartram/.pyenv/versions/3.7.3/lib/python3.7/site-packages (from matplotlib>=2.0.0->ipympl) (0.10.0)\n",
      "Requirement already satisfied: kiwisolver>=1.0.1 in /Users/chelseabartram/.pyenv/versions/3.7.3/lib/python3.7/site-packages (from matplotlib>=2.0.0->ipympl) (1.3.1)\n",
      "Requirement already satisfied: six in /Users/chelseabartram/.pyenv/versions/3.7.3/lib/python3.7/site-packages (from cycler>=0.10->matplotlib>=2.0.0->ipympl) (1.15.0)\n",
      "Requirement already satisfied: jsonschema!=2.5.0,>=2.4 in /Users/chelseabartram/.pyenv/versions/3.7.3/lib/python3.7/site-packages (from nbformat>=4.2.0->ipywidgets>=7.6.0->ipympl) (3.2.0)\n",
      "Requirement already satisfied: ipython-genutils in /Users/chelseabartram/.pyenv/versions/3.7.3/lib/python3.7/site-packages (from nbformat>=4.2.0->ipywidgets>=7.6.0->ipympl) (0.2.0)\n",
      "Requirement already satisfied: pyrsistent>=0.14.0 in /Users/chelseabartram/.pyenv/versions/3.7.3/lib/python3.7/site-packages (from jsonschema!=2.5.0,>=2.4->nbformat>=4.2.0->ipywidgets>=7.6.0->ipympl) (0.18.0)\n",
      "Requirement already satisfied: attrs>=17.4.0 in /Users/chelseabartram/.pyenv/versions/3.7.3/lib/python3.7/site-packages (from jsonschema!=2.5.0,>=2.4->nbformat>=4.2.0->ipywidgets>=7.6.0->ipympl) (21.2.0)\n",
      "Requirement already satisfied: ptyprocess>=0.5 in /Users/chelseabartram/.pyenv/versions/3.7.3/lib/python3.7/site-packages (from pexpect>4.3->ipython<8.0,>=7.23.1->ipykernel>=4.7->ipympl) (0.7.0)\n",
      "Requirement already satisfied: wcwidth in /Users/chelseabartram/.pyenv/versions/3.7.3/lib/python3.7/site-packages (from prompt-toolkit!=3.0.0,!=3.0.1,<3.1.0,>=2.0.0->ipython<8.0,>=7.23.1->ipykernel>=4.7->ipympl) (0.2.5)\n",
      "Requirement already satisfied: notebook>=4.4.1 in /Users/chelseabartram/.pyenv/versions/3.7.3/lib/python3.7/site-packages (from widgetsnbextension~=3.5.0->ipywidgets>=7.6.0->ipympl) (6.4.3)\n",
      "Requirement already satisfied: terminado>=0.8.3 in /Users/chelseabartram/.pyenv/versions/3.7.3/lib/python3.7/site-packages (from notebook>=4.4.1->widgetsnbextension~=3.5.0->ipywidgets>=7.6.0->ipympl) (0.11.1)\n",
      "Requirement already satisfied: jinja2 in /Users/chelseabartram/.pyenv/versions/3.7.3/lib/python3.7/site-packages (from notebook>=4.4.1->widgetsnbextension~=3.5.0->ipywidgets>=7.6.0->ipympl) (3.0.1)\n",
      "Requirement already satisfied: nbconvert in /Users/chelseabartram/.pyenv/versions/3.7.3/lib/python3.7/site-packages (from notebook>=4.4.1->widgetsnbextension~=3.5.0->ipywidgets>=7.6.0->ipympl) (6.1.0)\n",
      "Requirement already satisfied: Send2Trash>=1.5.0 in /Users/chelseabartram/.pyenv/versions/3.7.3/lib/python3.7/site-packages (from notebook>=4.4.1->widgetsnbextension~=3.5.0->ipywidgets>=7.6.0->ipympl) (1.8.0)\n",
      "Requirement already satisfied: prometheus-client in /Users/chelseabartram/.pyenv/versions/3.7.3/lib/python3.7/site-packages (from notebook>=4.4.1->widgetsnbextension~=3.5.0->ipywidgets>=7.6.0->ipympl) (0.11.0)\n",
      "Requirement already satisfied: argon2-cffi in /Users/chelseabartram/.pyenv/versions/3.7.3/lib/python3.7/site-packages (from notebook>=4.4.1->widgetsnbextension~=3.5.0->ipywidgets>=7.6.0->ipympl) (21.1.0)\n"
     ]
    },
    {
     "name": "stdout",
     "output_type": "stream",
     "text": [
      "Requirement already satisfied: cffi>=1.0.0 in /Users/chelseabartram/.pyenv/versions/3.7.3/lib/python3.7/site-packages (from argon2-cffi->notebook>=4.4.1->widgetsnbextension~=3.5.0->ipywidgets>=7.6.0->ipympl) (1.14.6)\n",
      "Requirement already satisfied: pycparser in /Users/chelseabartram/.pyenv/versions/3.7.3/lib/python3.7/site-packages (from cffi>=1.0.0->argon2-cffi->notebook>=4.4.1->widgetsnbextension~=3.5.0->ipywidgets>=7.6.0->ipympl) (2.20)\n",
      "Requirement already satisfied: MarkupSafe>=2.0 in /Users/chelseabartram/.pyenv/versions/3.7.3/lib/python3.7/site-packages (from jinja2->notebook>=4.4.1->widgetsnbextension~=3.5.0->ipywidgets>=7.6.0->ipympl) (2.0.1)\n",
      "Requirement already satisfied: nbclient<0.6.0,>=0.5.0 in /Users/chelseabartram/.pyenv/versions/3.7.3/lib/python3.7/site-packages (from nbconvert->notebook>=4.4.1->widgetsnbextension~=3.5.0->ipywidgets>=7.6.0->ipympl) (0.5.4)\n",
      "Requirement already satisfied: defusedxml in /Users/chelseabartram/.pyenv/versions/3.7.3/lib/python3.7/site-packages (from nbconvert->notebook>=4.4.1->widgetsnbextension~=3.5.0->ipywidgets>=7.6.0->ipympl) (0.7.1)\n",
      "Requirement already satisfied: testpath in /Users/chelseabartram/.pyenv/versions/3.7.3/lib/python3.7/site-packages (from nbconvert->notebook>=4.4.1->widgetsnbextension~=3.5.0->ipywidgets>=7.6.0->ipympl) (0.5.0)\n",
      "Requirement already satisfied: mistune<2,>=0.8.1 in /Users/chelseabartram/.pyenv/versions/3.7.3/lib/python3.7/site-packages (from nbconvert->notebook>=4.4.1->widgetsnbextension~=3.5.0->ipywidgets>=7.6.0->ipympl) (0.8.4)\n",
      "Requirement already satisfied: bleach in /Users/chelseabartram/.pyenv/versions/3.7.3/lib/python3.7/site-packages (from nbconvert->notebook>=4.4.1->widgetsnbextension~=3.5.0->ipywidgets>=7.6.0->ipympl) (4.1.0)\n",
      "Requirement already satisfied: jupyterlab-pygments in /Users/chelseabartram/.pyenv/versions/3.7.3/lib/python3.7/site-packages (from nbconvert->notebook>=4.4.1->widgetsnbextension~=3.5.0->ipywidgets>=7.6.0->ipympl) (0.1.2)\n",
      "Requirement already satisfied: pandocfilters>=1.4.1 in /Users/chelseabartram/.pyenv/versions/3.7.3/lib/python3.7/site-packages (from nbconvert->notebook>=4.4.1->widgetsnbextension~=3.5.0->ipywidgets>=7.6.0->ipympl) (1.4.3)\n",
      "Requirement already satisfied: webencodings in /Users/chelseabartram/.pyenv/versions/3.7.3/lib/python3.7/site-packages (from bleach->nbconvert->notebook>=4.4.1->widgetsnbextension~=3.5.0->ipywidgets>=7.6.0->ipympl) (0.5.1)\n",
      "Requirement already satisfied: packaging in /Users/chelseabartram/.pyenv/versions/3.7.3/lib/python3.7/site-packages (from bleach->nbconvert->notebook>=4.4.1->widgetsnbextension~=3.5.0->ipywidgets>=7.6.0->ipympl) (21.0)\n",
      "Note: you may need to restart the kernel to use updated packages.\n"
     ]
    }
   ],
   "source": [
    "pip install ipympl"
   ]
  },
  {
   "cell_type": "code",
   "execution_count": null,
   "metadata": {},
   "outputs": [],
   "source": []
  }
 ],
 "metadata": {
  "kernelspec": {
   "display_name": "Python 3 (ipykernel)",
   "language": "python",
   "name": "python3"
  },
  "language_info": {
   "codemirror_mode": {
    "name": "ipython",
    "version": 3
   },
   "file_extension": ".py",
   "mimetype": "text/x-python",
   "name": "python",
   "nbconvert_exporter": "python",
   "pygments_lexer": "ipython3",
   "version": "3.7.3"
  }
 },
 "nbformat": 4,
 "nbformat_minor": 4
}
